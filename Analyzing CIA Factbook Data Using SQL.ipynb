{
 "cells": [
  {
   "cell_type": "markdown",
   "metadata": {},
   "source": [
    "# Guided Project: Analyzing CIA Factbook Data Using SQL\n",
    "\n",
    "In this project, we'll work with data from the CIA World Factbook, a compendium of statistics about all of the countries on Earth. The Factbook contains demographic information like the following:\n",
    "\n",
    "- `population` — the global population.\n",
    "- `population_growth` — the annual population growth rate, as a percentage.\n",
    "- `area` — the total land and water area."
   ]
  },
  {
   "cell_type": "code",
   "execution_count": 1,
   "metadata": {
    "collapsed": false,
    "jupyter": {
     "outputs_hidden": false
    },
    "scrolled": true
   },
   "outputs": [],
   "source": [
    "%%capture\n",
    "%load_ext sql\n",
    "%sql sqlite:///factbook.db"
   ]
  },
  {
   "cell_type": "markdown",
   "metadata": {},
   "source": [
    "Begin exploring the data:"
   ]
  },
  {
   "cell_type": "code",
   "execution_count": 2,
   "metadata": {
    "collapsed": false,
    "jupyter": {
     "outputs_hidden": false
    }
   },
   "outputs": [
    {
     "data": {
      "text/html": [
       "<span style=\"None\">Running query in &#x27;sqlite:///factbook.db&#x27;</span>"
      ],
      "text/plain": [
       "Running query in 'sqlite:///factbook.db'"
      ]
     },
     "metadata": {},
     "output_type": "display_data"
    },
    {
     "data": {
      "text/html": [
       "<table>\n",
       "    <thead>\n",
       "        <tr>\n",
       "            <th>type</th>\n",
       "            <th>name</th>\n",
       "            <th>tbl_name</th>\n",
       "            <th>rootpage</th>\n",
       "            <th>sql</th>\n",
       "        </tr>\n",
       "    </thead>\n",
       "    <tbody>\n",
       "        <tr>\n",
       "            <td>table</td>\n",
       "            <td>sqlite_sequence</td>\n",
       "            <td>sqlite_sequence</td>\n",
       "            <td>3</td>\n",
       "            <td>CREATE TABLE sqlite_sequence(name,seq)</td>\n",
       "        </tr>\n",
       "        <tr>\n",
       "            <td>table</td>\n",
       "            <td>facts</td>\n",
       "            <td>facts</td>\n",
       "            <td>47</td>\n",
       "            <td>CREATE TABLE \"facts\" (\"id\" INTEGER PRIMARY KEY AUTOINCREMENT NOT NULL, \"code\" varchar(255) NOT NULL, \"name\" varchar(255) NOT NULL, \"area\" integer, \"area_land\" integer, \"area_water\" integer, \"population\" integer, \"population_growth\" float, \"birth_rate\" float, \"death_rate\" float, \"migration_rate\" float)</td>\n",
       "        </tr>\n",
       "    </tbody>\n",
       "</table>"
      ],
      "text/plain": [
       "+-------+-----------------+-----------------+----------+----------------------------------------------------------------------------------------------------------------------------------------------------------------------------------------------------------------------------------------------------------------------------------------------------------------+\n",
       "|  type |       name      |     tbl_name    | rootpage |                                                                                                                                                      sql                                                                                                                                                       |\n",
       "+-------+-----------------+-----------------+----------+----------------------------------------------------------------------------------------------------------------------------------------------------------------------------------------------------------------------------------------------------------------------------------------------------------------+\n",
       "| table | sqlite_sequence | sqlite_sequence |    3     |                                                                                                                                     CREATE TABLE sqlite_sequence(name,seq)                                                                                                                                     |\n",
       "| table |      facts      |      facts      |    47    | CREATE TABLE \"facts\" (\"id\" INTEGER PRIMARY KEY AUTOINCREMENT NOT NULL, \"code\" varchar(255) NOT NULL, \"name\" varchar(255) NOT NULL, \"area\" integer, \"area_land\" integer, \"area_water\" integer, \"population\" integer, \"population_growth\" float, \"birth_rate\" float, \"death_rate\" float, \"migration_rate\" float) |\n",
       "+-------+-----------------+-----------------+----------+----------------------------------------------------------------------------------------------------------------------------------------------------------------------------------------------------------------------------------------------------------------------------------------------------------------+"
      ]
     },
     "execution_count": 2,
     "metadata": {},
     "output_type": "execute_result"
    }
   ],
   "source": [
    "%%sql\n",
    "SELECT *\n",
    "  FROM sqlite_master\n",
    " WHERE type='table';"
   ]
  },
  {
   "cell_type": "code",
   "execution_count": 3,
   "metadata": {
    "collapsed": false,
    "jupyter": {
     "outputs_hidden": false
    }
   },
   "outputs": [
    {
     "data": {
      "text/html": [
       "<span style=\"None\">Running query in &#x27;sqlite:///factbook.db&#x27;</span>"
      ],
      "text/plain": [
       "Running query in 'sqlite:///factbook.db'"
      ]
     },
     "metadata": {},
     "output_type": "display_data"
    },
    {
     "data": {
      "text/html": [
       "<table>\n",
       "    <thead>\n",
       "        <tr>\n",
       "            <th>id</th>\n",
       "            <th>code</th>\n",
       "            <th>name</th>\n",
       "            <th>area</th>\n",
       "            <th>area_land</th>\n",
       "            <th>area_water</th>\n",
       "            <th>population</th>\n",
       "            <th>population_growth</th>\n",
       "            <th>birth_rate</th>\n",
       "            <th>death_rate</th>\n",
       "            <th>migration_rate</th>\n",
       "        </tr>\n",
       "    </thead>\n",
       "    <tbody>\n",
       "        <tr>\n",
       "            <td>1</td>\n",
       "            <td>af</td>\n",
       "            <td>Afghanistan</td>\n",
       "            <td>652230</td>\n",
       "            <td>652230</td>\n",
       "            <td>0</td>\n",
       "            <td>32564342</td>\n",
       "            <td>2.32</td>\n",
       "            <td>38.57</td>\n",
       "            <td>13.89</td>\n",
       "            <td>1.51</td>\n",
       "        </tr>\n",
       "        <tr>\n",
       "            <td>2</td>\n",
       "            <td>al</td>\n",
       "            <td>Albania</td>\n",
       "            <td>28748</td>\n",
       "            <td>27398</td>\n",
       "            <td>1350</td>\n",
       "            <td>3029278</td>\n",
       "            <td>0.3</td>\n",
       "            <td>12.92</td>\n",
       "            <td>6.58</td>\n",
       "            <td>3.3</td>\n",
       "        </tr>\n",
       "        <tr>\n",
       "            <td>3</td>\n",
       "            <td>ag</td>\n",
       "            <td>Algeria</td>\n",
       "            <td>2381741</td>\n",
       "            <td>2381741</td>\n",
       "            <td>0</td>\n",
       "            <td>39542166</td>\n",
       "            <td>1.84</td>\n",
       "            <td>23.67</td>\n",
       "            <td>4.31</td>\n",
       "            <td>0.92</td>\n",
       "        </tr>\n",
       "        <tr>\n",
       "            <td>4</td>\n",
       "            <td>an</td>\n",
       "            <td>Andorra</td>\n",
       "            <td>468</td>\n",
       "            <td>468</td>\n",
       "            <td>0</td>\n",
       "            <td>85580</td>\n",
       "            <td>0.12</td>\n",
       "            <td>8.13</td>\n",
       "            <td>6.96</td>\n",
       "            <td>0.0</td>\n",
       "        </tr>\n",
       "        <tr>\n",
       "            <td>5</td>\n",
       "            <td>ao</td>\n",
       "            <td>Angola</td>\n",
       "            <td>1246700</td>\n",
       "            <td>1246700</td>\n",
       "            <td>0</td>\n",
       "            <td>19625353</td>\n",
       "            <td>2.78</td>\n",
       "            <td>38.78</td>\n",
       "            <td>11.49</td>\n",
       "            <td>0.46</td>\n",
       "        </tr>\n",
       "    </tbody>\n",
       "</table>"
      ],
      "text/plain": [
       "+----+------+-------------+---------+-----------+------------+------------+-------------------+------------+------------+----------------+\n",
       "| id | code |     name    |   area  | area_land | area_water | population | population_growth | birth_rate | death_rate | migration_rate |\n",
       "+----+------+-------------+---------+-----------+------------+------------+-------------------+------------+------------+----------------+\n",
       "| 1  |  af  | Afghanistan |  652230 |   652230  |     0      |  32564342  |        2.32       |   38.57    |   13.89    |      1.51      |\n",
       "| 2  |  al  |   Albania   |  28748  |   27398   |    1350    |  3029278   |        0.3        |   12.92    |    6.58    |      3.3       |\n",
       "| 3  |  ag  |   Algeria   | 2381741 |  2381741  |     0      |  39542166  |        1.84       |   23.67    |    4.31    |      0.92      |\n",
       "| 4  |  an  |   Andorra   |   468   |    468    |     0      |   85580    |        0.12       |    8.13    |    6.96    |      0.0       |\n",
       "| 5  |  ao  |    Angola   | 1246700 |  1246700  |     0      |  19625353  |        2.78       |   38.78    |   11.49    |      0.46      |\n",
       "+----+------+-------------+---------+-----------+------------+------------+-------------------+------------+------------+----------------+"
      ]
     },
     "execution_count": 3,
     "metadata": {},
     "output_type": "execute_result"
    }
   ],
   "source": [
    "%%sql\n",
    "SELECT *\n",
    "  FROM facts\n",
    " LIMIT 5;"
   ]
  },
  {
   "cell_type": "markdown",
   "metadata": {},
   "source": [
    "Here are the descriptions for some of the columns:\n",
    "\n",
    "- `name` — the name of the country.\n",
    "- `area` — the country's total area (both land and water).\n",
    "- `area_land` — the country's land area in square kilometers.\n",
    "- `area_water` — the country's water area in square kilometers.\n",
    "- `population` — the country's population.\n",
    "- `population_growth` — the country's population growth as a percentage.\n",
    "- `birth_rate` — the country's birth rate, or the number of births per year per 1,000 people.\n",
    "- `death_rate` — the country's death rate, or the number of death per year per 1,000 people."
   ]
  },
  {
   "cell_type": "markdown",
   "metadata": {},
   "source": [
    "### Summary Statistics\n",
    "\n",
    "Let's start by calculating some summary statistics and look for any outlier countries."
   ]
  },
  {
   "cell_type": "code",
   "execution_count": 4,
   "metadata": {
    "collapsed": false,
    "jupyter": {
     "outputs_hidden": false
    }
   },
   "outputs": [
    {
     "data": {
      "text/html": [
       "<span style=\"None\">Running query in &#x27;sqlite:///factbook.db&#x27;</span>"
      ],
      "text/plain": [
       "Running query in 'sqlite:///factbook.db'"
      ]
     },
     "metadata": {},
     "output_type": "display_data"
    },
    {
     "data": {
      "text/html": [
       "<table>\n",
       "    <thead>\n",
       "        <tr>\n",
       "            <th>min_pop</th>\n",
       "            <th>max_pop</th>\n",
       "            <th>min_pop_growth</th>\n",
       "            <th>max_pop_growth</th>\n",
       "        </tr>\n",
       "    </thead>\n",
       "    <tbody>\n",
       "        <tr>\n",
       "            <td>0</td>\n",
       "            <td>7256490011</td>\n",
       "            <td>0.0</td>\n",
       "            <td>4.02</td>\n",
       "        </tr>\n",
       "    </tbody>\n",
       "</table>"
      ],
      "text/plain": [
       "+---------+------------+----------------+----------------+\n",
       "| min_pop |  max_pop   | min_pop_growth | max_pop_growth |\n",
       "+---------+------------+----------------+----------------+\n",
       "|    0    | 7256490011 |      0.0       |      4.02      |\n",
       "+---------+------------+----------------+----------------+"
      ]
     },
     "execution_count": 4,
     "metadata": {},
     "output_type": "execute_result"
    }
   ],
   "source": [
    "%%sql\n",
    "SELECT MIN(population) AS min_pop,\n",
    "       MAX(population) AS max_pop,\n",
    "       MIN(population_growth) AS min_pop_growth,\n",
    "       MAX(population_growth) AS max_pop_growth\n",
    "  FROM facts;"
   ]
  },
  {
   "cell_type": "markdown",
   "metadata": {},
   "source": [
    "We see a few interesting things in the summary statistics on the previous screen:\n",
    "\n",
    "- There's a country with a population of 0\n",
    "- There's a country with a population of 7256490011 (or more than 7.2 billion people)\n",
    "\n",
    "Let's use subqueries to zoom in on just these countries without using the specific values.\n",
    "\n",
    "Let's write a query that returns the countries with the minimum and maximum populations.\n"
   ]
  },
  {
   "cell_type": "code",
   "execution_count": 5,
   "metadata": {
    "collapsed": false,
    "jupyter": {
     "outputs_hidden": false
    }
   },
   "outputs": [
    {
     "data": {
      "text/html": [
       "<span style=\"None\">Running query in &#x27;sqlite:///factbook.db&#x27;</span>"
      ],
      "text/plain": [
       "Running query in 'sqlite:///factbook.db'"
      ]
     },
     "metadata": {},
     "output_type": "display_data"
    },
    {
     "data": {
      "text/html": [
       "<table>\n",
       "    <thead>\n",
       "        <tr>\n",
       "            <th>id</th>\n",
       "            <th>code</th>\n",
       "            <th>name</th>\n",
       "            <th>area</th>\n",
       "            <th>area_land</th>\n",
       "            <th>area_water</th>\n",
       "            <th>population</th>\n",
       "            <th>population_growth</th>\n",
       "            <th>birth_rate</th>\n",
       "            <th>death_rate</th>\n",
       "            <th>migration_rate</th>\n",
       "        </tr>\n",
       "    </thead>\n",
       "    <tbody>\n",
       "        <tr>\n",
       "            <td>250</td>\n",
       "            <td>ay</td>\n",
       "            <td>Antarctica</td>\n",
       "            <td>None</td>\n",
       "            <td>280000</td>\n",
       "            <td>None</td>\n",
       "            <td>0</td>\n",
       "            <td>None</td>\n",
       "            <td>None</td>\n",
       "            <td>None</td>\n",
       "            <td>None</td>\n",
       "        </tr>\n",
       "    </tbody>\n",
       "</table>"
      ],
      "text/plain": [
       "+-----+------+------------+------+-----------+------------+------------+-------------------+------------+------------+----------------+\n",
       "|  id | code |    name    | area | area_land | area_water | population | population_growth | birth_rate | death_rate | migration_rate |\n",
       "+-----+------+------------+------+-----------+------------+------------+-------------------+------------+------------+----------------+\n",
       "| 250 |  ay  | Antarctica | None |   280000  |    None    |     0      |        None       |    None    |    None    |      None      |\n",
       "+-----+------+------------+------+-----------+------------+------------+-------------------+------------+------------+----------------+"
      ]
     },
     "execution_count": 5,
     "metadata": {},
     "output_type": "execute_result"
    }
   ],
   "source": [
    "%%sql\n",
    "SELECT *\n",
    "  FROM facts\n",
    " WHERE population = (SELECT MIN(population)\n",
    "                       FROM facts\n",
    "                    )\n"
   ]
  },
  {
   "cell_type": "markdown",
   "metadata": {},
   "source": [
    "It appears that the CIA Factbook contains a row for Antarctica which explains the population of zero."
   ]
  },
  {
   "cell_type": "code",
   "execution_count": 6,
   "metadata": {
    "collapsed": false,
    "jupyter": {
     "outputs_hidden": false
    }
   },
   "outputs": [
    {
     "data": {
      "text/html": [
       "<span style=\"None\">Running query in &#x27;sqlite:///factbook.db&#x27;</span>"
      ],
      "text/plain": [
       "Running query in 'sqlite:///factbook.db'"
      ]
     },
     "metadata": {},
     "output_type": "display_data"
    },
    {
     "data": {
      "text/html": [
       "<table>\n",
       "    <thead>\n",
       "        <tr>\n",
       "            <th>id</th>\n",
       "            <th>code</th>\n",
       "            <th>name</th>\n",
       "            <th>area</th>\n",
       "            <th>area_land</th>\n",
       "            <th>area_water</th>\n",
       "            <th>population</th>\n",
       "            <th>population_growth</th>\n",
       "            <th>birth_rate</th>\n",
       "            <th>death_rate</th>\n",
       "            <th>migration_rate</th>\n",
       "        </tr>\n",
       "    </thead>\n",
       "    <tbody>\n",
       "        <tr>\n",
       "            <td>261</td>\n",
       "            <td>xx</td>\n",
       "            <td>World</td>\n",
       "            <td>None</td>\n",
       "            <td>None</td>\n",
       "            <td>None</td>\n",
       "            <td>7256490011</td>\n",
       "            <td>1.08</td>\n",
       "            <td>18.6</td>\n",
       "            <td>7.8</td>\n",
       "            <td>None</td>\n",
       "        </tr>\n",
       "    </tbody>\n",
       "</table>"
      ],
      "text/plain": [
       "+-----+------+-------+------+-----------+------------+------------+-------------------+------------+------------+----------------+\n",
       "|  id | code |  name | area | area_land | area_water | population | population_growth | birth_rate | death_rate | migration_rate |\n",
       "+-----+------+-------+------+-----------+------------+------------+-------------------+------------+------------+----------------+\n",
       "| 261 |  xx  | World | None |    None   |    None    | 7256490011 |        1.08       |    18.6    |    7.8     |      None      |\n",
       "+-----+------+-------+------+-----------+------------+------------+-------------------+------------+------------+----------------+"
      ]
     },
     "execution_count": 6,
     "metadata": {},
     "output_type": "execute_result"
    }
   ],
   "source": [
    "%%sql\n",
    "SELECT *\n",
    "  FROM facts\n",
    " WHERE population = (SELECT MAX(population)\n",
    "                       FROM facts\n",
    "                    )\n"
   ]
  },
  {
   "cell_type": "markdown",
   "metadata": {},
   "source": [
    "The CIA Factbook also contains a row for the `world`. This explains why there is a maximum population listed at over 7.2 billion. \n",
    "\n",
    "Given the information above, the summary statisics should be recalculated to exclude the row accounting for the entire world."
   ]
  },
  {
   "cell_type": "code",
   "execution_count": 7,
   "metadata": {
    "collapsed": false,
    "jupyter": {
     "outputs_hidden": false
    }
   },
   "outputs": [
    {
     "data": {
      "text/html": [
       "<span style=\"None\">Running query in &#x27;sqlite:///factbook.db&#x27;</span>"
      ],
      "text/plain": [
       "Running query in 'sqlite:///factbook.db'"
      ]
     },
     "metadata": {},
     "output_type": "display_data"
    },
    {
     "data": {
      "text/html": [
       "<table>\n",
       "    <thead>\n",
       "        <tr>\n",
       "            <th>min_pop</th>\n",
       "            <th>max_pop</th>\n",
       "            <th>min_pop_growth</th>\n",
       "            <th>max_pop_growth</th>\n",
       "        </tr>\n",
       "    </thead>\n",
       "    <tbody>\n",
       "        <tr>\n",
       "            <td>0</td>\n",
       "            <td>1367485388</td>\n",
       "            <td>0.0</td>\n",
       "            <td>4.02</td>\n",
       "        </tr>\n",
       "    </tbody>\n",
       "</table>"
      ],
      "text/plain": [
       "+---------+------------+----------------+----------------+\n",
       "| min_pop |  max_pop   | min_pop_growth | max_pop_growth |\n",
       "+---------+------------+----------------+----------------+\n",
       "|    0    | 1367485388 |      0.0       |      4.02      |\n",
       "+---------+------------+----------------+----------------+"
      ]
     },
     "execution_count": 7,
     "metadata": {},
     "output_type": "execute_result"
    }
   ],
   "source": [
    "%%sql\n",
    "SELECT MIN(population) AS min_pop,\n",
    "       MAX(population) AS max_pop,\n",
    "       MIN(population_growth) AS min_pop_growth,\n",
    "       MAX(population_growth) AS max_pop_growth\n",
    "  FROM facts\n",
    " WHERE name != 'World'\n"
   ]
  },
  {
   "cell_type": "markdown",
   "metadata": {},
   "source": [
    "### Exploring Average Population and Area\n",
    "\n",
    "Let's begin by calculating the average value for population and area."
   ]
  },
  {
   "cell_type": "code",
   "execution_count": 8,
   "metadata": {
    "collapsed": false,
    "jupyter": {
     "outputs_hidden": false
    }
   },
   "outputs": [
    {
     "data": {
      "text/html": [
       "<span style=\"None\">Running query in &#x27;sqlite:///factbook.db&#x27;</span>"
      ],
      "text/plain": [
       "Running query in 'sqlite:///factbook.db'"
      ]
     },
     "metadata": {},
     "output_type": "display_data"
    },
    {
     "data": {
      "text/html": [
       "<table>\n",
       "    <thead>\n",
       "        <tr>\n",
       "            <th>avg_pop</th>\n",
       "            <th>avg_area</th>\n",
       "        </tr>\n",
       "    </thead>\n",
       "    <tbody>\n",
       "        <tr>\n",
       "            <td>32242666.56846473</td>\n",
       "            <td>555093.546184739</td>\n",
       "        </tr>\n",
       "    </tbody>\n",
       "</table>"
      ],
      "text/plain": [
       "+-------------------+------------------+\n",
       "|      avg_pop      |     avg_area     |\n",
       "+-------------------+------------------+\n",
       "| 32242666.56846473 | 555093.546184739 |\n",
       "+-------------------+------------------+"
      ]
     },
     "execution_count": 8,
     "metadata": {},
     "output_type": "execute_result"
    }
   ],
   "source": [
    "%%sql\n",
    "SELECT AVG(population) AS avg_pop,\n",
    "       AVG(area) AS avg_area\n",
    "  FROM facts\n",
    " WHERE name != 'World';"
   ]
  },
  {
   "cell_type": "markdown",
   "metadata": {},
   "source": [
    "Now we will write a query that finds all countries that meet the following criteria:\n",
    "\n",
    "- The Population is above average\n",
    "- The area is below average"
   ]
  },
  {
   "cell_type": "code",
   "execution_count": 9,
   "metadata": {
    "collapsed": false,
    "jupyter": {
     "outputs_hidden": false
    }
   },
   "outputs": [
    {
     "data": {
      "text/html": [
       "<span style=\"None\">Running query in &#x27;sqlite:///factbook.db&#x27;</span>"
      ],
      "text/plain": [
       "Running query in 'sqlite:///factbook.db'"
      ]
     },
     "metadata": {},
     "output_type": "display_data"
    },
    {
     "data": {
      "text/html": [
       "<table>\n",
       "    <thead>\n",
       "        <tr>\n",
       "            <th>country</th>\n",
       "            <th>population</th>\n",
       "            <th>area</th>\n",
       "        </tr>\n",
       "    </thead>\n",
       "    <tbody>\n",
       "        <tr>\n",
       "            <td>Bangladesh</td>\n",
       "            <td>168957745</td>\n",
       "            <td>148460</td>\n",
       "        </tr>\n",
       "        <tr>\n",
       "            <td>Germany</td>\n",
       "            <td>80854408</td>\n",
       "            <td>357022</td>\n",
       "        </tr>\n",
       "        <tr>\n",
       "            <td>Iraq</td>\n",
       "            <td>37056169</td>\n",
       "            <td>438317</td>\n",
       "        </tr>\n",
       "        <tr>\n",
       "            <td>Italy</td>\n",
       "            <td>61855120</td>\n",
       "            <td>301340</td>\n",
       "        </tr>\n",
       "        <tr>\n",
       "            <td>Japan</td>\n",
       "            <td>126919659</td>\n",
       "            <td>377915</td>\n",
       "        </tr>\n",
       "        <tr>\n",
       "            <td>Korea, South</td>\n",
       "            <td>49115196</td>\n",
       "            <td>99720</td>\n",
       "        </tr>\n",
       "        <tr>\n",
       "            <td>Morocco</td>\n",
       "            <td>33322699</td>\n",
       "            <td>446550</td>\n",
       "        </tr>\n",
       "        <tr>\n",
       "            <td>Philippines</td>\n",
       "            <td>100998376</td>\n",
       "            <td>300000</td>\n",
       "        </tr>\n",
       "        <tr>\n",
       "            <td>Poland</td>\n",
       "            <td>38562189</td>\n",
       "            <td>312685</td>\n",
       "        </tr>\n",
       "        <tr>\n",
       "            <td>Spain</td>\n",
       "            <td>48146134</td>\n",
       "            <td>505370</td>\n",
       "        </tr>\n",
       "    </tbody>\n",
       "</table>\n",
       "<span style=\"font-style:italic;text-align:center;\">Truncated to <a href=\"https://jupysql.ploomber.io/en/latest/api/configuration.html#displaylimit\">displaylimit</a> of 10.</span>"
      ],
      "text/plain": [
       "+--------------+------------+--------+\n",
       "|   country    | population |  area  |\n",
       "+--------------+------------+--------+\n",
       "|  Bangladesh  | 168957745  | 148460 |\n",
       "|   Germany    |  80854408  | 357022 |\n",
       "|     Iraq     |  37056169  | 438317 |\n",
       "|    Italy     |  61855120  | 301340 |\n",
       "|    Japan     | 126919659  | 377915 |\n",
       "| Korea, South |  49115196  | 99720  |\n",
       "|   Morocco    |  33322699  | 446550 |\n",
       "| Philippines  | 100998376  | 300000 |\n",
       "|    Poland    |  38562189  | 312685 |\n",
       "|    Spain     |  48146134  | 505370 |\n",
       "+--------------+------------+--------+\n",
       "Truncated to displaylimit of 10."
      ]
     },
     "execution_count": 9,
     "metadata": {},
     "output_type": "execute_result"
    }
   ],
   "source": [
    "%%sql\n",
    "SELECT name AS country,\n",
    "       population,\n",
    "       area\n",
    "  FROM facts\n",
    " WHERE population > (SELECT AVG(population)\n",
    "                       FROM facts\n",
    "                      WHERE name != 'World'\n",
    "                    )\n",
    "   AND area < (SELECT AVG(area)\n",
    "                 FROM facts\n",
    "                WHERE name != 'World'\n",
    "              );"
   ]
  },
  {
   "cell_type": "markdown",
   "metadata": {},
   "source": [
    "## Additonal Exploration\n",
    "\n",
    "We will answer the following:\n",
    "- Which country has the most people? Which country has the highest growth rate?\n",
    "- Which countries have the highest ratios of water to land? Which countries - have more water than land?\n",
    "- Which countries will add the most people to their populations next year?\n",
    "- Which countries have a higher death rate than birth rate?\n",
    "- Which countries have the highest population/area ratio, and how does it compare to list we found in the previous screen?\n",
    "\n",
    "### Country with the Largest Population "
   ]
  },
  {
   "cell_type": "code",
   "execution_count": 10,
   "metadata": {
    "collapsed": false,
    "jupyter": {
     "outputs_hidden": false
    }
   },
   "outputs": [
    {
     "data": {
      "text/html": [
       "<span style=\"None\">Running query in &#x27;sqlite:///factbook.db&#x27;</span>"
      ],
      "text/plain": [
       "Running query in 'sqlite:///factbook.db'"
      ]
     },
     "metadata": {},
     "output_type": "display_data"
    },
    {
     "data": {
      "text/html": [
       "<table>\n",
       "    <thead>\n",
       "        <tr>\n",
       "            <th>country</th>\n",
       "            <th>population</th>\n",
       "        </tr>\n",
       "    </thead>\n",
       "    <tbody>\n",
       "        <tr>\n",
       "            <td>China</td>\n",
       "            <td>1367485388</td>\n",
       "        </tr>\n",
       "    </tbody>\n",
       "</table>"
      ],
      "text/plain": [
       "+---------+------------+\n",
       "| country | population |\n",
       "+---------+------------+\n",
       "|  China  | 1367485388 |\n",
       "+---------+------------+"
      ]
     },
     "execution_count": 10,
     "metadata": {},
     "output_type": "execute_result"
    }
   ],
   "source": [
    "%%sql\n",
    "SELECT name as country, \n",
    "       population\n",
    "  FROM facts\n",
    " WHERE population == (SELECT MAX(population)\n",
    "                        FROM facts\n",
    "                       WHERE name != 'World'\n",
    "                     );"
   ]
  },
  {
   "cell_type": "markdown",
   "metadata": {},
   "source": [
    "### Highest Population Growth"
   ]
  },
  {
   "cell_type": "code",
   "execution_count": 11,
   "metadata": {
    "collapsed": false,
    "jupyter": {
     "outputs_hidden": false
    }
   },
   "outputs": [
    {
     "data": {
      "text/html": [
       "<span style=\"None\">Running query in &#x27;sqlite:///factbook.db&#x27;</span>"
      ],
      "text/plain": [
       "Running query in 'sqlite:///factbook.db'"
      ]
     },
     "metadata": {},
     "output_type": "display_data"
    },
    {
     "data": {
      "text/html": [
       "<table>\n",
       "    <thead>\n",
       "        <tr>\n",
       "            <th>country</th>\n",
       "            <th>population_growth</th>\n",
       "        </tr>\n",
       "    </thead>\n",
       "    <tbody>\n",
       "        <tr>\n",
       "            <td>South Sudan</td>\n",
       "            <td>4.02</td>\n",
       "        </tr>\n",
       "    </tbody>\n",
       "</table>"
      ],
      "text/plain": [
       "+-------------+-------------------+\n",
       "|   country   | population_growth |\n",
       "+-------------+-------------------+\n",
       "| South Sudan |        4.02       |\n",
       "+-------------+-------------------+"
      ]
     },
     "execution_count": 11,
     "metadata": {},
     "output_type": "execute_result"
    }
   ],
   "source": [
    "%%sql\n",
    "SELECT name AS country,\n",
    "       population_growth\n",
    "  FROM facts\n",
    " WHERE population_growth == (SELECT MAX(population_growth)\n",
    "                               FROM facts\n",
    "                              WHERE name != 'World'\n",
    "                            );"
   ]
  },
  {
   "cell_type": "markdown",
   "metadata": {},
   "source": [
    "\n",
    "\n",
    "### TOP 5: Countries with the highest water to land ratio"
   ]
  },
  {
   "cell_type": "code",
   "execution_count": 12,
   "metadata": {
    "collapsed": false,
    "jupyter": {
     "outputs_hidden": false
    }
   },
   "outputs": [
    {
     "data": {
      "text/html": [
       "<span style=\"None\">Running query in &#x27;sqlite:///factbook.db&#x27;</span>"
      ],
      "text/plain": [
       "Running query in 'sqlite:///factbook.db'"
      ]
     },
     "metadata": {},
     "output_type": "display_data"
    },
    {
     "data": {
      "text/html": [
       "<table>\n",
       "    <thead>\n",
       "        <tr>\n",
       "            <th>country</th>\n",
       "            <th>area_water</th>\n",
       "            <th>area_land</th>\n",
       "            <th>water_to_land</th>\n",
       "        </tr>\n",
       "    </thead>\n",
       "    <tbody>\n",
       "        <tr>\n",
       "            <td>British Indian Ocean Territory</td>\n",
       "            <td>54340</td>\n",
       "            <td>60</td>\n",
       "            <td>905.67</td>\n",
       "        </tr>\n",
       "        <tr>\n",
       "            <td>Virgin Islands</td>\n",
       "            <td>1564</td>\n",
       "            <td>346</td>\n",
       "            <td>4.52</td>\n",
       "        </tr>\n",
       "        <tr>\n",
       "            <td>Puerto Rico</td>\n",
       "            <td>4921</td>\n",
       "            <td>8870</td>\n",
       "            <td>0.55</td>\n",
       "        </tr>\n",
       "        <tr>\n",
       "            <td>Bahamas, The</td>\n",
       "            <td>3870</td>\n",
       "            <td>10010</td>\n",
       "            <td>0.39</td>\n",
       "        </tr>\n",
       "        <tr>\n",
       "            <td>Guinea-Bissau</td>\n",
       "            <td>8005</td>\n",
       "            <td>28120</td>\n",
       "            <td>0.28</td>\n",
       "        </tr>\n",
       "    </tbody>\n",
       "</table>"
      ],
      "text/plain": [
       "+--------------------------------+------------+-----------+---------------+\n",
       "|            country             | area_water | area_land | water_to_land |\n",
       "+--------------------------------+------------+-----------+---------------+\n",
       "| British Indian Ocean Territory |   54340    |     60    |     905.67    |\n",
       "|         Virgin Islands         |    1564    |    346    |      4.52     |\n",
       "|          Puerto Rico           |    4921    |    8870   |      0.55     |\n",
       "|          Bahamas, The          |    3870    |   10010   |      0.39     |\n",
       "|         Guinea-Bissau          |    8005    |   28120   |      0.28     |\n",
       "+--------------------------------+------------+-----------+---------------+"
      ]
     },
     "execution_count": 12,
     "metadata": {},
     "output_type": "execute_result"
    }
   ],
   "source": [
    "%%sql\n",
    "SELECT name AS country,\n",
    "       area_water,\n",
    "       area_land,\n",
    "       ROUND(CAST(area_water AS Float)/CAST(area_land AS Float), 2) AS water_to_land\n",
    "  FROM facts\n",
    " ORDER by water_to_land DESC\n",
    " LIMIT 5;"
   ]
  },
  {
   "cell_type": "markdown",
   "metadata": {},
   "source": [
    "The British Indian Ocean Territory and Virgin Islands have more water than land!\n",
    "\n",
    "### TOP 5: Highest Populations Next Year"
   ]
  },
  {
   "cell_type": "code",
   "execution_count": 13,
   "metadata": {
    "collapsed": false,
    "jupyter": {
     "outputs_hidden": false
    }
   },
   "outputs": [
    {
     "data": {
      "text/html": [
       "<span style=\"None\">Running query in &#x27;sqlite:///factbook.db&#x27;</span>"
      ],
      "text/plain": [
       "Running query in 'sqlite:///factbook.db'"
      ]
     },
     "metadata": {},
     "output_type": "display_data"
    },
    {
     "data": {
      "text/html": [
       "<table>\n",
       "    <thead>\n",
       "        <tr>\n",
       "            <th>country</th>\n",
       "            <th>population_next_year</th>\n",
       "        </tr>\n",
       "    </thead>\n",
       "    <tbody>\n",
       "        <tr>\n",
       "            <td>China</td>\n",
       "            <td>1373639072</td>\n",
       "        </tr>\n",
       "        <tr>\n",
       "            <td>India</td>\n",
       "            <td>1266966270</td>\n",
       "        </tr>\n",
       "        <tr>\n",
       "            <td>United States</td>\n",
       "            <td>323875541</td>\n",
       "        </tr>\n",
       "        <tr>\n",
       "            <td>Indonesia</td>\n",
       "            <td>258348815</td>\n",
       "        </tr>\n",
       "        <tr>\n",
       "            <td>Brazil</td>\n",
       "            <td>205832612</td>\n",
       "        </tr>\n",
       "    </tbody>\n",
       "</table>"
      ],
      "text/plain": [
       "+---------------+----------------------+\n",
       "|    country    | population_next_year |\n",
       "+---------------+----------------------+\n",
       "|     China     |      1373639072      |\n",
       "|     India     |      1266966270      |\n",
       "| United States |      323875541       |\n",
       "|   Indonesia   |      258348815       |\n",
       "|     Brazil    |      205832612       |\n",
       "+---------------+----------------------+"
      ]
     },
     "execution_count": 13,
     "metadata": {},
     "output_type": "execute_result"
    }
   ],
   "source": [
    "%%sql\n",
    "SELECT name AS country,\n",
    "       CAST(population * (1 + (population_growth/100)) AS integer) AS population_next_year\n",
    "  FROM facts\n",
    " WHERE name != 'World' AND name != 'European Union'\n",
    " ORDER BY population_next_year DESC\n",
    " LIMIT 5;"
   ]
  },
  {
   "cell_type": "markdown",
   "metadata": {},
   "source": [
    "### TOP 5: Higher Death Rate than Birth Rate"
   ]
  },
  {
   "cell_type": "code",
   "execution_count": 14,
   "metadata": {
    "collapsed": false,
    "jupyter": {
     "outputs_hidden": false
    }
   },
   "outputs": [
    {
     "data": {
      "text/html": [
       "<span style=\"None\">Running query in &#x27;sqlite:///factbook.db&#x27;</span>"
      ],
      "text/plain": [
       "Running query in 'sqlite:///factbook.db'"
      ]
     },
     "metadata": {},
     "output_type": "display_data"
    },
    {
     "data": {
      "text/html": [
       "<table>\n",
       "    <thead>\n",
       "        <tr>\n",
       "            <th>country</th>\n",
       "            <th>death_rate</th>\n",
       "            <th>birth_rate</th>\n",
       "        </tr>\n",
       "    </thead>\n",
       "    <tbody>\n",
       "        <tr>\n",
       "            <td>Austria</td>\n",
       "            <td>9.42</td>\n",
       "            <td>9.41</td>\n",
       "        </tr>\n",
       "        <tr>\n",
       "            <td>Belarus</td>\n",
       "            <td>13.36</td>\n",
       "            <td>10.7</td>\n",
       "        </tr>\n",
       "        <tr>\n",
       "            <td>Bosnia and Herzegovina</td>\n",
       "            <td>9.75</td>\n",
       "            <td>8.87</td>\n",
       "        </tr>\n",
       "        <tr>\n",
       "            <td>Bulgaria</td>\n",
       "            <td>14.44</td>\n",
       "            <td>8.92</td>\n",
       "        </tr>\n",
       "        <tr>\n",
       "            <td>Croatia</td>\n",
       "            <td>12.18</td>\n",
       "            <td>9.45</td>\n",
       "        </tr>\n",
       "    </tbody>\n",
       "</table>"
      ],
      "text/plain": [
       "+------------------------+------------+------------+\n",
       "|        country         | death_rate | birth_rate |\n",
       "+------------------------+------------+------------+\n",
       "|        Austria         |    9.42    |    9.41    |\n",
       "|        Belarus         |   13.36    |    10.7    |\n",
       "| Bosnia and Herzegovina |    9.75    |    8.87    |\n",
       "|        Bulgaria        |   14.44    |    8.92    |\n",
       "|        Croatia         |   12.18    |    9.45    |\n",
       "+------------------------+------------+------------+"
      ]
     },
     "execution_count": 14,
     "metadata": {},
     "output_type": "execute_result"
    }
   ],
   "source": [
    "%%sql\n",
    "SELECT name AS country,\n",
    "       death_rate,\n",
    "       birth_rate\n",
    "  FROM facts\n",
    " WHERE death_rate > birth_rate\n",
    " LIMIT 5;"
   ]
  },
  {
   "cell_type": "markdown",
   "metadata": {},
   "source": [
    "### TOP 5: Most Densely Populated Countries\n",
    "\n",
    "NOTE: Since most people live on land, only land area will be used for this calulation. Using the total area, including water area, might distort the results."
   ]
  },
  {
   "cell_type": "code",
   "execution_count": 15,
   "metadata": {
    "collapsed": false,
    "jupyter": {
     "outputs_hidden": false
    }
   },
   "outputs": [
    {
     "data": {
      "text/html": [
       "<span style=\"None\">Running query in &#x27;sqlite:///factbook.db&#x27;</span>"
      ],
      "text/plain": [
       "Running query in 'sqlite:///factbook.db'"
      ]
     },
     "metadata": {},
     "output_type": "display_data"
    },
    {
     "data": {
      "text/html": [
       "<table>\n",
       "    <thead>\n",
       "        <tr>\n",
       "            <th>country</th>\n",
       "            <th>population</th>\n",
       "            <th>area_land</th>\n",
       "            <th>pop_density</th>\n",
       "        </tr>\n",
       "    </thead>\n",
       "    <tbody>\n",
       "        <tr>\n",
       "            <td>Macau</td>\n",
       "            <td>592731</td>\n",
       "            <td>28</td>\n",
       "            <td>21168.0</td>\n",
       "        </tr>\n",
       "        <tr>\n",
       "            <td>Monaco</td>\n",
       "            <td>30535</td>\n",
       "            <td>2</td>\n",
       "            <td>15267.0</td>\n",
       "        </tr>\n",
       "        <tr>\n",
       "            <td>Singapore</td>\n",
       "            <td>5674472</td>\n",
       "            <td>687</td>\n",
       "            <td>8259.0</td>\n",
       "        </tr>\n",
       "        <tr>\n",
       "            <td>Hong Kong</td>\n",
       "            <td>7141106</td>\n",
       "            <td>1073</td>\n",
       "            <td>6655.0</td>\n",
       "        </tr>\n",
       "        <tr>\n",
       "            <td>Gaza Strip</td>\n",
       "            <td>1869055</td>\n",
       "            <td>360</td>\n",
       "            <td>5191.0</td>\n",
       "        </tr>\n",
       "    </tbody>\n",
       "</table>"
      ],
      "text/plain": [
       "+------------+------------+-----------+-------------+\n",
       "|  country   | population | area_land | pop_density |\n",
       "+------------+------------+-----------+-------------+\n",
       "|   Macau    |   592731   |     28    |   21168.0   |\n",
       "|   Monaco   |   30535    |     2     |   15267.0   |\n",
       "| Singapore  |  5674472   |    687    |    8259.0   |\n",
       "| Hong Kong  |  7141106   |    1073   |    6655.0   |\n",
       "| Gaza Strip |  1869055   |    360    |    5191.0   |\n",
       "+------------+------------+-----------+-------------+"
      ]
     },
     "execution_count": 15,
     "metadata": {},
     "output_type": "execute_result"
    }
   ],
   "source": [
    "%%sql\n",
    "SELECT name AS country,\n",
    "       population,\n",
    "       area_land,\n",
    "       ROUND(CAST(population/area_land AS Float), 2) AS pop_density\n",
    "  FROM facts\n",
    " ORDER BY pop_density DESC\n",
    " LIMIT 5;"
   ]
  },
  {
   "cell_type": "markdown",
   "metadata": {},
   "source": [
    "Compare to the list of countries that have an above average population and below average area"
   ]
  },
  {
   "cell_type": "code",
   "execution_count": 16,
   "metadata": {
    "collapsed": false,
    "jupyter": {
     "outputs_hidden": false
    }
   },
   "outputs": [
    {
     "data": {
      "text/html": [
       "<span style=\"None\">Running query in &#x27;sqlite:///factbook.db&#x27;</span>"
      ],
      "text/plain": [
       "Running query in 'sqlite:///factbook.db'"
      ]
     },
     "metadata": {},
     "output_type": "display_data"
    },
    {
     "data": {
      "text/html": [
       "<table>\n",
       "    <thead>\n",
       "        <tr>\n",
       "            <th>country</th>\n",
       "            <th>population</th>\n",
       "            <th>area_land</th>\n",
       "            <th>pop_density</th>\n",
       "        </tr>\n",
       "    </thead>\n",
       "    <tbody>\n",
       "        <tr>\n",
       "            <td>Bangladesh</td>\n",
       "            <td>168957745</td>\n",
       "            <td>130170</td>\n",
       "            <td>1297.0</td>\n",
       "        </tr>\n",
       "        <tr>\n",
       "            <td>Korea, South</td>\n",
       "            <td>49115196</td>\n",
       "            <td>96920</td>\n",
       "            <td>506.0</td>\n",
       "        </tr>\n",
       "        <tr>\n",
       "            <td>Japan</td>\n",
       "            <td>126919659</td>\n",
       "            <td>364485</td>\n",
       "            <td>348.0</td>\n",
       "        </tr>\n",
       "        <tr>\n",
       "            <td>Philippines</td>\n",
       "            <td>100998376</td>\n",
       "            <td>298170</td>\n",
       "            <td>338.0</td>\n",
       "        </tr>\n",
       "        <tr>\n",
       "            <td>Vietnam</td>\n",
       "            <td>94348835</td>\n",
       "            <td>310070</td>\n",
       "            <td>304.0</td>\n",
       "        </tr>\n",
       "        <tr>\n",
       "            <td>United Kingdom</td>\n",
       "            <td>64088222</td>\n",
       "            <td>241930</td>\n",
       "            <td>264.0</td>\n",
       "        </tr>\n",
       "        <tr>\n",
       "            <td>Germany</td>\n",
       "            <td>80854408</td>\n",
       "            <td>348672</td>\n",
       "            <td>231.0</td>\n",
       "        </tr>\n",
       "        <tr>\n",
       "            <td>Italy</td>\n",
       "            <td>61855120</td>\n",
       "            <td>294140</td>\n",
       "            <td>210.0</td>\n",
       "        </tr>\n",
       "        <tr>\n",
       "            <td>Uganda</td>\n",
       "            <td>37101745</td>\n",
       "            <td>197100</td>\n",
       "            <td>188.0</td>\n",
       "        </tr>\n",
       "        <tr>\n",
       "            <td>Thailand</td>\n",
       "            <td>67976405</td>\n",
       "            <td>510890</td>\n",
       "            <td>133.0</td>\n",
       "        </tr>\n",
       "    </tbody>\n",
       "</table>\n",
       "<span style=\"font-style:italic;text-align:center;\">Truncated to <a href=\"https://jupysql.ploomber.io/en/latest/api/configuration.html#displaylimit\">displaylimit</a> of 10.</span>"
      ],
      "text/plain": [
       "+----------------+------------+-----------+-------------+\n",
       "|    country     | population | area_land | pop_density |\n",
       "+----------------+------------+-----------+-------------+\n",
       "|   Bangladesh   | 168957745  |   130170  |    1297.0   |\n",
       "|  Korea, South  |  49115196  |   96920   |    506.0    |\n",
       "|     Japan      | 126919659  |   364485  |    348.0    |\n",
       "|  Philippines   | 100998376  |   298170  |    338.0    |\n",
       "|    Vietnam     |  94348835  |   310070  |    304.0    |\n",
       "| United Kingdom |  64088222  |   241930  |    264.0    |\n",
       "|    Germany     |  80854408  |   348672  |    231.0    |\n",
       "|     Italy      |  61855120  |   294140  |    210.0    |\n",
       "|     Uganda     |  37101745  |   197100  |    188.0    |\n",
       "|    Thailand    |  67976405  |   510890  |    133.0    |\n",
       "+----------------+------------+-----------+-------------+\n",
       "Truncated to displaylimit of 10."
      ]
     },
     "execution_count": 16,
     "metadata": {},
     "output_type": "execute_result"
    }
   ],
   "source": [
    "%%sql\n",
    "SELECT name AS country,\n",
    "       population,\n",
    "       area_land,\n",
    "       ROUND(CAST(population/area_land AS Float), 2) AS pop_density\n",
    "  FROM facts\n",
    " WHERE population > (SELECT AVG(population)\n",
    "                       FROM facts\n",
    "                      WHERE name != 'World'\n",
    "                    )\n",
    "   AND area < (SELECT AVG(area)\n",
    "                 FROM facts\n",
    "                WHERE name != 'World'\n",
    "              )\n",
    " ORDER BY pop_density DESC;"
   ]
  },
  {
   "cell_type": "markdown",
   "metadata": {},
   "source": [
    "It is very interesting that the Top 5 most densely populated countries are not on the list of countires with above average population and below average land area. It makes sense, however, when looking at the land area sizes as the most densely populated countries have land areas that are significantly below the average land area size. "
   ]
  }
 ],
 "metadata": {
  "kernelspec": {
   "display_name": "Python 3 (ipykernel)",
   "language": "python",
   "name": "python3"
  },
  "language_info": {
   "codemirror_mode": {
    "name": "ipython",
    "version": 3
   },
   "file_extension": ".py",
   "mimetype": "text/x-python",
   "name": "python",
   "nbconvert_exporter": "python",
   "pygments_lexer": "ipython3",
   "version": "3.12.1"
  }
 },
 "nbformat": 4,
 "nbformat_minor": 4
}
